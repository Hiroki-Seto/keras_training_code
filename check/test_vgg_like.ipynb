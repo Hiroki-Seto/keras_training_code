{
 "cells": [
  {
   "cell_type": "code",
   "execution_count": 1,
   "metadata": {},
   "outputs": [],
   "source": [
    "import os\n",
    "os.environ[\"CUDA_VISIBLE_DEVICES\"] = \"1\""
   ]
  },
  {
   "cell_type": "code",
   "execution_count": 2,
   "metadata": {},
   "outputs": [],
   "source": [
    "import sys\n",
    "sys.path.append(\"../\")"
   ]
  },
  {
   "cell_type": "code",
   "execution_count": 3,
   "metadata": {},
   "outputs": [],
   "source": [
    "%load_ext autoreload\n",
    "%autoreload 2"
   ]
  },
  {
   "cell_type": "code",
   "execution_count": 4,
   "metadata": {},
   "outputs": [
    {
     "name": "stderr",
     "output_type": "stream",
     "text": [
      "/home/hseto/.pyenv/versions/3.5.2/envs/performance/lib/python3.5/site-packages/h5py/__init__.py:36: FutureWarning: Conversion of the second argument of issubdtype from `float` to `np.floating` is deprecated. In future, it will be treated as `np.float64 == np.dtype(float).type`.\n",
      "  from ._conv import register_converters as _register_converters\n",
      "Using TensorFlow backend.\n"
     ]
    }
   ],
   "source": [
    "from keras.layers import Input"
   ]
  },
  {
   "cell_type": "code",
   "execution_count": 5,
   "metadata": {},
   "outputs": [],
   "source": [
    "from models.vgg_like import ModelBuild"
   ]
  },
  {
   "cell_type": "code",
   "execution_count": 6,
   "metadata": {},
   "outputs": [],
   "source": [
    "builder = ModelBuild(10)"
   ]
  },
  {
   "cell_type": "code",
   "execution_count": 7,
   "metadata": {},
   "outputs": [],
   "source": [
    "inputs = Input((32, 32, 3))"
   ]
  },
  {
   "cell_type": "code",
   "execution_count": 8,
   "metadata": {},
   "outputs": [],
   "source": [
    "model = builder.build(inputs)"
   ]
  },
  {
   "cell_type": "code",
   "execution_count": 9,
   "metadata": {},
   "outputs": [
    {
     "name": "stdout",
     "output_type": "stream",
     "text": [
      "_________________________________________________________________\n",
      "Layer (type)                 Output Shape              Param #   \n",
      "=================================================================\n",
      "input_1 (InputLayer)         (None, 32, 32, 3)         0         \n",
      "_________________________________________________________________\n",
      "conv1_1 (Conv2D)             (None, 32, 32, 64)        1792      \n",
      "_________________________________________________________________\n",
      "conv1_1_bn (BatchNormalizati (None, 32, 32, 64)        256       \n",
      "_________________________________________________________________\n",
      "conv1_1_act (Activation)     (None, 32, 32, 64)        0         \n",
      "_________________________________________________________________\n",
      "conv1_2 (Conv2D)             (None, 32, 32, 64)        36928     \n",
      "_________________________________________________________________\n",
      "conv1_2_bn (BatchNormalizati (None, 32, 32, 64)        256       \n",
      "_________________________________________________________________\n",
      "conv1_2_act (Activation)     (None, 32, 32, 64)        0         \n",
      "_________________________________________________________________\n",
      "max_pooling2d_1 (MaxPooling2 (None, 16, 16, 64)        0         \n",
      "_________________________________________________________________\n",
      "conv2_1 (Conv2D)             (None, 16, 16, 128)       73856     \n",
      "_________________________________________________________________\n",
      "conv2_1_bn (BatchNormalizati (None, 16, 16, 128)       512       \n",
      "_________________________________________________________________\n",
      "conv2_1_act (Activation)     (None, 16, 16, 128)       0         \n",
      "_________________________________________________________________\n",
      "conv2_2 (Conv2D)             (None, 16, 16, 128)       147584    \n",
      "_________________________________________________________________\n",
      "conv2_2_bn (BatchNormalizati (None, 16, 16, 128)       512       \n",
      "_________________________________________________________________\n",
      "conv2_2_act (Activation)     (None, 16, 16, 128)       0         \n",
      "_________________________________________________________________\n",
      "max_pooling2d_2 (MaxPooling2 (None, 8, 8, 128)         0         \n",
      "_________________________________________________________________\n",
      "conv3_1 (Conv2D)             (None, 8, 8, 256)         295168    \n",
      "_________________________________________________________________\n",
      "conv3_1_bn (BatchNormalizati (None, 8, 8, 256)         1024      \n",
      "_________________________________________________________________\n",
      "conv3_1_act (Activation)     (None, 8, 8, 256)         0         \n",
      "_________________________________________________________________\n",
      "conv3_2 (Conv2D)             (None, 8, 8, 256)         590080    \n",
      "_________________________________________________________________\n",
      "conv3_2_bn (BatchNormalizati (None, 8, 8, 256)         1024      \n",
      "_________________________________________________________________\n",
      "conv3_2_act (Activation)     (None, 8, 8, 256)         0         \n",
      "_________________________________________________________________\n",
      "conv3_3 (Conv2D)             (None, 8, 8, 256)         590080    \n",
      "_________________________________________________________________\n",
      "conv3_3_bn (BatchNormalizati (None, 8, 8, 256)         1024      \n",
      "_________________________________________________________________\n",
      "conv3_3_act (Activation)     (None, 8, 8, 256)         0         \n",
      "_________________________________________________________________\n",
      "conv3_4 (Conv2D)             (None, 8, 8, 256)         590080    \n",
      "_________________________________________________________________\n",
      "conv3_4_bn (BatchNormalizati (None, 8, 8, 256)         1024      \n",
      "_________________________________________________________________\n",
      "conv3_4_act (Activation)     (None, 8, 8, 256)         0         \n",
      "_________________________________________________________________\n",
      "max_pooling2d_3 (MaxPooling2 (None, 4, 4, 256)         0         \n",
      "_________________________________________________________________\n",
      "conv4_1 (Conv2D)             (None, 4, 4, 256)         65792     \n",
      "_________________________________________________________________\n",
      "conv4_1_bn (BatchNormalizati (None, 4, 4, 256)         1024      \n",
      "_________________________________________________________________\n",
      "conv4_1_act (Activation)     (None, 4, 4, 256)         0         \n",
      "_________________________________________________________________\n",
      "conv4_2 (Conv2D)             (None, 4, 4, 256)         65792     \n",
      "_________________________________________________________________\n",
      "conv4_2_bn (BatchNormalizati (None, 4, 4, 256)         1024      \n",
      "_________________________________________________________________\n",
      "conv4_2_act (Activation)     (None, 4, 4, 256)         0         \n",
      "_________________________________________________________________\n",
      "conv4_3 (Conv2D)             (None, 4, 4, 256)         65792     \n",
      "_________________________________________________________________\n",
      "conv4_3_bn (BatchNormalizati (None, 4, 4, 256)         1024      \n",
      "_________________________________________________________________\n",
      "conv4_3_act (Activation)     (None, 4, 4, 256)         0         \n",
      "_________________________________________________________________\n",
      "conv4_4 (Conv2D)             (None, 4, 4, 256)         65792     \n",
      "_________________________________________________________________\n",
      "conv4_4_bn (BatchNormalizati (None, 4, 4, 256)         1024      \n",
      "_________________________________________________________________\n",
      "conv4_4_act (Activation)     (None, 4, 4, 256)         0         \n",
      "_________________________________________________________________\n",
      "average_pooling2d_1 (Average (None, 1, 1, 256)         0         \n",
      "_________________________________________________________________\n",
      "flatten_1 (Flatten)          (None, 256)               0         \n",
      "_________________________________________________________________\n",
      "dense_1 (Dense)              (None, 10)                2570      \n",
      "=================================================================\n",
      "Total params: 2,601,034\n",
      "Trainable params: 2,596,170\n",
      "Non-trainable params: 4,864\n",
      "_________________________________________________________________\n"
     ]
    }
   ],
   "source": [
    "model.summary()"
   ]
  },
  {
   "cell_type": "code",
   "execution_count": null,
   "metadata": {},
   "outputs": [],
   "source": []
  }
 ],
 "metadata": {
  "kernelspec": {
   "display_name": "Python 3",
   "language": "python",
   "name": "python3"
  },
  "language_info": {
   "codemirror_mode": {
    "name": "ipython",
    "version": 3
   },
   "file_extension": ".py",
   "mimetype": "text/x-python",
   "name": "python",
   "nbconvert_exporter": "python",
   "pygments_lexer": "ipython3",
   "version": "3.5.2"
  }
 },
 "nbformat": 4,
 "nbformat_minor": 2
}
