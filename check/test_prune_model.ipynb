{
 "cells": [
  {
   "cell_type": "code",
   "execution_count": 1,
   "metadata": {},
   "outputs": [],
   "source": [
    "import os\n",
    "os.environ[\"CUDA_VISIBLE_DEVICES\"] = \"3\""
   ]
  },
  {
   "cell_type": "code",
   "execution_count": 2,
   "metadata": {},
   "outputs": [],
   "source": [
    "import numpy as np"
   ]
  },
  {
   "cell_type": "code",
   "execution_count": 6,
   "metadata": {},
   "outputs": [],
   "source": [
    "from keras.layers import Conv2D"
   ]
  },
  {
   "cell_type": "code",
   "execution_count": 3,
   "metadata": {},
   "outputs": [],
   "source": [
    "from keras.models import load_model"
   ]
  },
  {
   "cell_type": "code",
   "execution_count": 4,
   "metadata": {},
   "outputs": [],
   "source": [
    "model = load_model(\"../log/prune_test/last_model.hdf5\")"
   ]
  },
  {
   "cell_type": "code",
   "execution_count": 5,
   "metadata": {},
   "outputs": [],
   "source": [
    "layers = model.layers"
   ]
  },
  {
   "cell_type": "code",
   "execution_count": 9,
   "metadata": {},
   "outputs": [
    {
     "name": "stdout",
     "output_type": "stream",
     "text": [
      "Weight Length: 432 Zero Count: 217\n",
      "Weight Length: 23040 Zero Count: 11521\n",
      "Weight Length: 230400 Zero Count: 115201\n",
      "Weight Length: 2560 Zero Count: 1281\n",
      "Weight Length: 230400 Zero Count: 115201\n",
      "Weight Length: 230400 Zero Count: 115201\n",
      "Weight Length: 230400 Zero Count: 115201\n",
      "Weight Length: 230400 Zero Count: 115201\n",
      "Weight Length: 230400 Zero Count: 115201\n",
      "Weight Length: 230400 Zero Count: 115201\n",
      "Weight Length: 460800 Zero Count: 230401\n",
      "Weight Length: 921600 Zero Count: 460801\n",
      "Weight Length: 51200 Zero Count: 25601\n",
      "Weight Length: 921600 Zero Count: 460801\n",
      "Weight Length: 921600 Zero Count: 460801\n",
      "Weight Length: 921600 Zero Count: 460801\n",
      "Weight Length: 921600 Zero Count: 460801\n",
      "Weight Length: 921600 Zero Count: 460801\n",
      "Weight Length: 921600 Zero Count: 460801\n",
      "Weight Length: 1843200 Zero Count: 921601\n",
      "Weight Length: 3686400 Zero Count: 1843201\n",
      "Weight Length: 204800 Zero Count: 102401\n",
      "Weight Length: 3686400 Zero Count: 1843201\n",
      "Weight Length: 3686400 Zero Count: 1843201\n",
      "Weight Length: 3686400 Zero Count: 1843201\n",
      "Weight Length: 3686400 Zero Count: 1843201\n",
      "Weight Length: 3686400 Zero Count: 1843201\n",
      "Weight Length: 3686400 Zero Count: 1843201\n"
     ]
    }
   ],
   "source": [
    "for lay in layers:\n",
    "    cls = lay.__class__\n",
    "    if cls == Conv2D:\n",
    "        w = lay.get_weights()[0]\n",
    "        zero_count = np.sum(w.ravel() == 0)\n",
    "        print(\"Weight Length: {0}\".format(len(w.ravel())), \"Zero Count: {0}\".format(zero_count))"
   ]
  },
  {
   "cell_type": "code",
   "execution_count": null,
   "metadata": {},
   "outputs": [],
   "source": []
  }
 ],
 "metadata": {
  "kernelspec": {
   "display_name": "Python 3",
   "language": "python",
   "name": "python3"
  },
  "language_info": {
   "codemirror_mode": {
    "name": "ipython",
    "version": 3
   },
   "file_extension": ".py",
   "mimetype": "text/x-python",
   "name": "python",
   "nbconvert_exporter": "python",
   "pygments_lexer": "ipython3",
   "version": "3.5.2"
  }
 },
 "nbformat": 4,
 "nbformat_minor": 2
}
