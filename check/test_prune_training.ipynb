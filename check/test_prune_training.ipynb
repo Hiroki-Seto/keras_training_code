{
 "cells": [
  {
   "cell_type": "code",
   "execution_count": 1,
   "metadata": {},
   "outputs": [],
   "source": [
    "import os\n",
    "os.environ[\"CUDA_VISIBLE_DEVICES\"] = \"2\"\n",
    "import sys\n",
    "sys.path.append(\"../\")\n",
    "import warnings\n",
    "warnings.filterwarnings(\"ignore\")"
   ]
  },
  {
   "cell_type": "code",
   "execution_count": 2,
   "metadata": {},
   "outputs": [],
   "source": [
    "import numpy as np"
   ]
  },
  {
   "cell_type": "code",
   "execution_count": 3,
   "metadata": {},
   "outputs": [
    {
     "name": "stderr",
     "output_type": "stream",
     "text": [
      "Using TensorFlow backend.\n"
     ]
    }
   ],
   "source": [
    "import keras.backend as K"
   ]
  },
  {
   "cell_type": "code",
   "execution_count": 4,
   "metadata": {},
   "outputs": [],
   "source": [
    "from keras.utils import to_categorical"
   ]
  },
  {
   "cell_type": "code",
   "execution_count": 5,
   "metadata": {},
   "outputs": [],
   "source": [
    "from keras.layers import Input, Conv2D, Dense, Flatten"
   ]
  },
  {
   "cell_type": "code",
   "execution_count": 6,
   "metadata": {},
   "outputs": [],
   "source": [
    "from keras.models import Model"
   ]
  },
  {
   "cell_type": "code",
   "execution_count": 7,
   "metadata": {},
   "outputs": [],
   "source": [
    "from keras.optimizers import SGD"
   ]
  },
  {
   "cell_type": "code",
   "execution_count": 8,
   "metadata": {},
   "outputs": [],
   "source": [
    "from opt.prune_mask import PruneWeights"
   ]
  },
  {
   "cell_type": "code",
   "execution_count": 9,
   "metadata": {},
   "outputs": [],
   "source": [
    "X_train = np.load(\"../data/X_train.npy\")\n",
    "y_train = np.load(\"../data/y_train.npy\")\n",
    "X_test = np.load(\"../data/X_test.npy\")\n",
    "y_test = np.load(\"../data/y_test.npy\")"
   ]
  },
  {
   "cell_type": "code",
   "execution_count": 10,
   "metadata": {},
   "outputs": [],
   "source": [
    "X_train = X_train / 127.5 - 1\n",
    "X_test = X_test / 127.5 - 1"
   ]
  },
  {
   "cell_type": "code",
   "execution_count": 11,
   "metadata": {},
   "outputs": [],
   "source": [
    "y_train = to_categorical(y_train, 10)\n",
    "y_test = to_categorical(y_test, 10)"
   ]
  },
  {
   "cell_type": "code",
   "execution_count": 12,
   "metadata": {},
   "outputs": [],
   "source": [
    "inputs = Input((32, 32, 3))"
   ]
  },
  {
   "cell_type": "code",
   "execution_count": 13,
   "metadata": {},
   "outputs": [],
   "source": [
    "x = Conv2D(64, 3, activation=\"relu\")(inputs)"
   ]
  },
  {
   "cell_type": "code",
   "execution_count": 14,
   "metadata": {},
   "outputs": [],
   "source": [
    "x = Conv2D(64, 3, activation=\"relu\")(x)"
   ]
  },
  {
   "cell_type": "code",
   "execution_count": 15,
   "metadata": {},
   "outputs": [],
   "source": [
    "x = Flatten()(x)"
   ]
  },
  {
   "cell_type": "code",
   "execution_count": 16,
   "metadata": {},
   "outputs": [],
   "source": [
    "outputs = Dense(10, activation=\"softmax\")(x)"
   ]
  },
  {
   "cell_type": "code",
   "execution_count": 17,
   "metadata": {},
   "outputs": [],
   "source": [
    "model = Model(inputs=inputs, outputs=outputs)"
   ]
  },
  {
   "cell_type": "code",
   "execution_count": 18,
   "metadata": {},
   "outputs": [],
   "source": [
    "sgd = SGD(lr=1e-4, momentum=0.9, nesterov=True)"
   ]
  },
  {
   "cell_type": "code",
   "execution_count": 19,
   "metadata": {},
   "outputs": [],
   "source": [
    "model.compile(sgd, loss=\"categorical_crossentropy\")"
   ]
  },
  {
   "cell_type": "code",
   "execution_count": 20,
   "metadata": {},
   "outputs": [],
   "source": [
    "sess = K.get_session()"
   ]
  },
  {
   "cell_type": "code",
   "execution_count": 21,
   "metadata": {},
   "outputs": [],
   "source": [
    "callbacks = []\n",
    "callbacks.append(PruneWeights(model, sess))"
   ]
  },
  {
   "cell_type": "code",
   "execution_count": 29,
   "metadata": {
    "scrolled": false
   },
   "outputs": [
    {
     "name": "stdout",
     "output_type": "stream",
     "text": [
      "Train on 100 samples, validate on 10000 samples\n",
      "Epoch 1/20\n",
      "Prune\n",
      "100/100 [==============================] - 1s 8ms/step - loss: 2.1409 - val_loss: 2.3109\n",
      "Epoch 2/20\n",
      "100/100 [==============================] - 1s 8ms/step - loss: 2.1345 - val_loss: 2.3110\n",
      "Epoch 3/20\n",
      "100/100 [==============================] - 1s 8ms/step - loss: 2.1285 - val_loss: 2.3110\n",
      "Epoch 4/20\n",
      "100/100 [==============================] - 1s 8ms/step - loss: 2.1222 - val_loss: 2.3107\n",
      "Epoch 5/20\n",
      "100/100 [==============================] - 1s 8ms/step - loss: 2.1163 - val_loss: 2.3104\n",
      "Epoch 6/20\n",
      "100/100 [==============================] - 1s 8ms/step - loss: 2.1097 - val_loss: 2.3104\n",
      "Epoch 7/20\n",
      "100/100 [==============================] - 1s 8ms/step - loss: 2.1030 - val_loss: 2.3115\n",
      "Epoch 8/20\n",
      "100/100 [==============================] - 1s 8ms/step - loss: 2.0963 - val_loss: 2.3129\n",
      "Epoch 9/20\n",
      "100/100 [==============================] - 1s 8ms/step - loss: 2.0890 - val_loss: 2.3146\n",
      "Epoch 10/20\n",
      "100/100 [==============================] - 1s 8ms/step - loss: 2.0824 - val_loss: 2.3177\n",
      "Epoch 11/20\n",
      "Prune\n",
      "100/100 [==============================] - 1s 8ms/step - loss: 2.0772 - val_loss: 2.3203\n",
      "Epoch 12/20\n",
      "100/100 [==============================] - 1s 8ms/step - loss: 2.0707 - val_loss: 2.3218\n",
      "Epoch 13/20\n",
      "100/100 [==============================] - 1s 8ms/step - loss: 2.0646 - val_loss: 2.3224\n",
      "Epoch 14/20\n",
      "100/100 [==============================] - 1s 8ms/step - loss: 2.0586 - val_loss: 2.3235\n",
      "Epoch 15/20\n",
      "100/100 [==============================] - 1s 8ms/step - loss: 2.0526 - val_loss: 2.3249\n",
      "Epoch 16/20\n",
      "100/100 [==============================] - 1s 8ms/step - loss: 2.0464 - val_loss: 2.3251\n",
      "Epoch 17/20\n",
      "100/100 [==============================] - 1s 8ms/step - loss: 2.0398 - val_loss: 2.3257\n",
      "Epoch 18/20\n",
      "100/100 [==============================] - 1s 8ms/step - loss: 2.0332 - val_loss: 2.3257\n",
      "Epoch 19/20\n",
      "100/100 [==============================] - 1s 8ms/step - loss: 2.0265 - val_loss: 2.3247\n",
      "Epoch 20/20\n",
      "100/100 [==============================] - 1s 8ms/step - loss: 2.0205 - val_loss: 2.3227\n"
     ]
    },
    {
     "data": {
      "text/plain": [
       "<keras.callbacks.History at 0x7ff59394de10>"
      ]
     },
     "execution_count": 29,
     "metadata": {},
     "output_type": "execute_result"
    }
   ],
   "source": [
    "model.fit(x=X_train[:100], y=y_train[:100], batch_size=32, epochs=20, verbose=1, callbacks=callbacks, validation_data=(X_test, y_test))"
   ]
  },
  {
   "cell_type": "code",
   "execution_count": 40,
   "metadata": {},
   "outputs": [
    {
     "name": "stdout",
     "output_type": "stream",
     "text": [
      "173\n",
      "1728\n",
      "3687\n",
      "36864\n"
     ]
    }
   ],
   "source": [
    "for lay in model.layers:\n",
    "    cls = lay.__class__\n",
    "    if cls == Conv2D:\n",
    "        w = lay.get_weights()[0]\n",
    "        zero_c = np.sum(np.isclose(w, 0))\n",
    "        print(zero_c)\n",
    "        print(len(w.ravel()))"
   ]
  },
  {
   "cell_type": "code",
   "execution_count": null,
   "metadata": {},
   "outputs": [],
   "source": []
  }
 ],
 "metadata": {
  "kernelspec": {
   "display_name": "Python 3",
   "language": "python",
   "name": "python3"
  },
  "language_info": {
   "codemirror_mode": {
    "name": "ipython",
    "version": 3
   },
   "file_extension": ".py",
   "mimetype": "text/x-python",
   "name": "python",
   "nbconvert_exporter": "python",
   "pygments_lexer": "ipython3",
   "version": "3.5.2"
  }
 },
 "nbformat": 4,
 "nbformat_minor": 2
}
