{
 "cells": [
  {
   "cell_type": "code",
   "execution_count": 230,
   "metadata": {},
   "outputs": [],
   "source": [
    "import os\n",
    "import pickle\n",
    "import numpy as np\n",
    "import keras.backend as K\n",
    "import tensorflow as tf\n",
    "\n",
    "from glob import glob\n",
    "from copy import deepcopy\n",
    "from collections import OrderedDict\n",
    "from keras.models import load_model, clone_model\n",
    "from keras.layers import Input"
   ]
  },
  {
   "cell_type": "code",
   "execution_count": 2,
   "metadata": {},
   "outputs": [],
   "source": [
    "g_config = tf.ConfigProto()\n",
    "g_config.gpu_options.per_process_gpu_memory_fraction = 0.4\n",
    "sess = tf.Session()\n",
    "K.set_session(sess)"
   ]
  },
  {
   "cell_type": "code",
   "execution_count": 3,
   "metadata": {},
   "outputs": [],
   "source": [
    "BASE_DIR = '../data/'"
   ]
  },
  {
   "cell_type": "code",
   "execution_count": 4,
   "metadata": {},
   "outputs": [],
   "source": [
    "init_model = load_model('../log/grad/init-model.hdf5')"
   ]
  },
  {
   "cell_type": "code",
   "execution_count": 5,
   "metadata": {},
   "outputs": [],
   "source": [
    "last_model = load_model('../log/grad/last-model.hdf5')"
   ]
  },
  {
   "cell_type": "code",
   "execution_count": 6,
   "metadata": {},
   "outputs": [],
   "source": [
    "X_train = np.load(os.path.join(BASE_DIR, \"X_train.npy\"))\n",
    "y_train = np.load(os.path.join(BASE_DIR, \"y_train.npy\"))\n",
    "X_test = np.load(os.path.join(BASE_DIR, \"X_test.npy\"))\n",
    "y_test = np.load(os.path.join(BASE_DIR, \"y_test.npy\"))\n",
    "\n",
    "mean = X_train.mean(axis=(0, 1, 2))\n",
    "std = X_train.std(axis=(0, 1, 2))\n",
    "\n",
    "X_train = (X_train - mean) / std\n",
    "X_test = (X_test - mean) / std"
   ]
  },
  {
   "cell_type": "code",
   "execution_count": 7,
   "metadata": {},
   "outputs": [],
   "source": [
    "init_model_variable = {}"
   ]
  },
  {
   "cell_type": "code",
   "execution_count": 8,
   "metadata": {
    "collapsed": true
   },
   "outputs": [
    {
     "name": "stdout",
     "output_type": "stream",
     "text": [
      "conv_first\n",
      "stage1_0_bn0\n",
      "stage1_0_conv0\n",
      "stage1_0_bn1\n",
      "stage1_0_conv1\n",
      "stage1_0_convdiff\n",
      "stage1_1_bn0\n",
      "stage1_1_conv0\n",
      "stage1_1_bn1\n",
      "stage1_1_conv1\n",
      "stage1_2_bn0\n",
      "stage1_2_conv0\n",
      "stage1_2_bn1\n",
      "stage1_2_conv1\n",
      "stage1_3_bn0\n",
      "stage1_3_conv0\n",
      "stage1_3_bn1\n",
      "stage1_3_conv1\n",
      "stage2_0_bn0\n",
      "stage2_0_conv0\n",
      "stage2_0_bn1\n",
      "stage2_0_conv1\n",
      "stage2_0_convdiff\n",
      "stage2_1_bn0\n",
      "stage2_1_conv0\n",
      "stage2_1_bn1\n",
      "stage2_1_conv1\n",
      "stage2_2_bn0\n",
      "stage2_2_conv0\n",
      "stage2_2_bn1\n",
      "stage2_2_conv1\n",
      "stage2_3_bn0\n",
      "stage2_3_conv0\n",
      "stage2_3_bn1\n",
      "stage2_3_conv1\n",
      "stage3_0_bn0\n",
      "stage3_0_conv0\n",
      "stage3_0_bn1\n",
      "stage3_0_conv1\n",
      "stage3_0_convdiff\n",
      "stage3_1_bn0\n",
      "stage3_1_conv0\n",
      "stage3_1_bn1\n",
      "stage3_1_conv1\n",
      "stage3_2_bn0\n",
      "stage3_2_conv0\n",
      "stage3_2_bn1\n",
      "stage3_2_conv1\n",
      "stage3_3_bn0\n",
      "stage3_3_conv0\n",
      "stage3_3_bn1\n",
      "stage3_3_conv1\n",
      "dense_1\n"
     ]
    }
   ],
   "source": [
    "for layer in init_model.layers:\n",
    "    if len(layer.weights) <= 0:\n",
    "        continue\n",
    "    print(layer.name)\n",
    "    init_model_variable.update({layer.name: layer.get_weights()})"
   ]
  },
  {
   "cell_type": "code",
   "execution_count": 9,
   "metadata": {},
   "outputs": [],
   "source": [
    "last_model_variable = {}"
   ]
  },
  {
   "cell_type": "code",
   "execution_count": 10,
   "metadata": {
    "collapsed": true
   },
   "outputs": [
    {
     "name": "stdout",
     "output_type": "stream",
     "text": [
      "conv_first\n",
      "stage1_0_bn0\n",
      "stage1_0_conv0\n",
      "stage1_0_bn1\n",
      "stage1_0_conv1\n",
      "stage1_0_convdiff\n",
      "stage1_1_bn0\n",
      "stage1_1_conv0\n",
      "stage1_1_bn1\n",
      "stage1_1_conv1\n",
      "stage1_2_bn0\n",
      "stage1_2_conv0\n",
      "stage1_2_bn1\n",
      "stage1_2_conv1\n",
      "stage1_3_bn0\n",
      "stage1_3_conv0\n",
      "stage1_3_bn1\n",
      "stage1_3_conv1\n",
      "stage2_0_bn0\n",
      "stage2_0_conv0\n",
      "stage2_0_bn1\n",
      "stage2_0_conv1\n",
      "stage2_0_convdiff\n",
      "stage2_1_bn0\n",
      "stage2_1_conv0\n",
      "stage2_1_bn1\n",
      "stage2_1_conv1\n",
      "stage2_2_bn0\n",
      "stage2_2_conv0\n",
      "stage2_2_bn1\n",
      "stage2_2_conv1\n",
      "stage2_3_bn0\n",
      "stage2_3_conv0\n",
      "stage2_3_bn1\n",
      "stage2_3_conv1\n",
      "stage3_0_bn0\n",
      "stage3_0_conv0\n",
      "stage3_0_bn1\n",
      "stage3_0_conv1\n",
      "stage3_0_convdiff\n",
      "stage3_1_bn0\n",
      "stage3_1_conv0\n",
      "stage3_1_bn1\n",
      "stage3_1_conv1\n",
      "stage3_2_bn0\n",
      "stage3_2_conv0\n",
      "stage3_2_bn1\n",
      "stage3_2_conv1\n",
      "stage3_3_bn0\n",
      "stage3_3_conv0\n",
      "stage3_3_bn1\n",
      "stage3_3_conv1\n",
      "dense_1\n"
     ]
    }
   ],
   "source": [
    "for layer in last_model.layers:\n",
    "    if len(layer.weights) <= 0:\n",
    "        continue\n",
    "    print(layer.name)\n",
    "    last_model_variable.update({layer.name: layer.get_weights()})"
   ]
  },
  {
   "cell_type": "code",
   "execution_count": 11,
   "metadata": {},
   "outputs": [],
   "source": [
    "diff_model_variable = {}"
   ]
  },
  {
   "cell_type": "code",
   "execution_count": 85,
   "metadata": {},
   "outputs": [],
   "source": [
    "for key in last_model_variable.keys():\n",
    "    src_variable = init_model_variable[key]\n",
    "    dst_variable = last_model_variable[key]\n",
    "    diff = []\n",
    "    for s, d in zip(src_variable, dst_variable):\n",
    "        diff.append(d - s)\n",
    "    diff_model_variable.update({key: diff})"
   ]
  },
  {
   "cell_type": "code",
   "execution_count": 110,
   "metadata": {},
   "outputs": [],
   "source": [
    "diff_50_div_variable = {}"
   ]
  },
  {
   "cell_type": "code",
   "execution_count": 111,
   "metadata": {},
   "outputs": [],
   "source": [
    "for key in diff_model_variable.keys():\n",
    "    diff = []\n",
    "    for v in diff_model_variable[key]:\n",
    "        diff.append(v / 50)\n",
    "    diff_50_div_variable.update({key: diff})"
   ]
  },
  {
   "cell_type": "code",
   "execution_count": 112,
   "metadata": {
    "collapsed": true
   },
   "outputs": [
    {
     "name": "stdout",
     "output_type": "stream",
     "text": [
      "stage2_2_conv0\n",
      "conv_first\n",
      "stage2_1_bn0\n",
      "stage2_0_bn0\n",
      "stage3_3_bn0\n",
      "stage3_3_bn1\n",
      "stage2_3_bn0\n",
      "stage1_2_bn1\n",
      "stage2_3_conv0\n",
      "stage1_3_conv0\n",
      "stage2_0_bn1\n",
      "stage3_0_bn1\n",
      "stage1_0_conv1\n",
      "stage1_2_conv0\n",
      "stage2_1_conv1\n",
      "stage2_2_bn1\n",
      "stage1_1_bn1\n",
      "stage2_0_convdiff\n",
      "stage2_1_bn1\n",
      "stage3_1_bn0\n",
      "stage1_0_convdiff\n",
      "stage3_1_conv0\n",
      "stage1_2_bn0\n",
      "stage3_0_convdiff\n",
      "stage2_2_bn0\n",
      "stage1_0_bn1\n",
      "stage1_0_bn0\n",
      "stage1_0_conv0\n",
      "stage3_0_conv1\n",
      "stage3_2_conv0\n",
      "stage2_1_conv0\n",
      "stage1_1_bn0\n",
      "stage3_1_conv1\n",
      "stage1_2_conv1\n",
      "stage2_0_conv0\n",
      "stage3_1_bn1\n",
      "stage2_3_conv1\n",
      "stage3_0_bn0\n",
      "stage3_2_conv1\n",
      "stage3_3_conv1\n",
      "stage2_0_conv1\n",
      "stage3_0_conv0\n",
      "stage3_2_bn1\n",
      "stage3_2_bn0\n",
      "stage1_3_conv1\n",
      "stage1_3_bn0\n",
      "stage1_3_bn1\n",
      "stage1_1_conv1\n",
      "stage2_3_bn1\n",
      "stage3_3_conv0\n",
      "dense_1\n",
      "stage1_1_conv0\n",
      "stage2_2_conv1\n"
     ]
    }
   ],
   "source": [
    "for key in diff_50_div_variable:\n",
    "    i_weights = init_model_variable[key]\n",
    "    l_weights = last_model_variable[key]\n",
    "    d_weights = diff_50_div_variable[key]\n",
    "    for i, l, d in zip(i_weights, l_weights, d_weights):\n",
    "        d = d.copy() * 50\n",
    "        new_i = i + d\n",
    "        if not np.all(np.isclose(l, new_i, atol=1e-6)):\n",
    "            print('NG')"
   ]
  },
  {
   "cell_type": "code",
   "execution_count": 229,
   "metadata": {},
   "outputs": [],
   "source": [
    "def set_model_variable(src_model, dst_model, diff_variable_dict, i):\n",
    "    # TODO 折角作成したinit_variable_dictを利用して高速化を図る．\n",
    "    for key in diff_variable_dict.keys():\n",
    "        src_layer = src_model.get_layer(key)\n",
    "        dst_layer = dst_model.get_layer(key)\n",
    "        src_weights = src_layer.get_weights()\n",
    "        add_weights = diff_variable_dict[key]\n",
    "        new_weights = []\n",
    "        for s, a in zip(src_weights, add_weights):\n",
    "            dst = s + a * i\n",
    "            new_weights.append(dst)\n",
    "        dst_layer.set_weights(new_weights)"
   ]
  },
  {
   "cell_type": "code",
   "execution_count": 226,
   "metadata": {},
   "outputs": [],
   "source": [
    "loss = []\n",
    "tmp_model = clone_model(init_model)\n",
    "tmp_model.set_weights(init_model.get_weights())\n",
    "op_loss = [o for o in tmp_model.losses]\n",
    "fn = K.function(tmp_model.inputs, op_loss, updates=False)"
   ]
  },
  {
   "cell_type": "code",
   "execution_count": 227,
   "metadata": {
    "collapsed": true
   },
   "outputs": [
    {
     "name": "stdout",
     "output_type": "stream",
     "text": [
      "1番目の処理\n",
      "2番目の処理\n",
      "3番目の処理\n",
      "4番目の処理\n",
      "5番目の処理\n",
      "6番目の処理\n",
      "7番目の処理\n",
      "8番目の処理\n",
      "9番目の処理\n",
      "10番目の処理\n",
      "11番目の処理\n",
      "12番目の処理\n",
      "13番目の処理\n",
      "14番目の処理\n",
      "15番目の処理\n",
      "16番目の処理\n",
      "17番目の処理\n",
      "18番目の処理\n",
      "19番目の処理\n",
      "20番目の処理\n",
      "21番目の処理\n",
      "22番目の処理\n",
      "23番目の処理\n",
      "24番目の処理\n",
      "25番目の処理\n",
      "26番目の処理\n",
      "27番目の処理\n",
      "28番目の処理\n",
      "29番目の処理\n",
      "30番目の処理\n",
      "31番目の処理\n",
      "32番目の処理\n",
      "33番目の処理\n",
      "34番目の処理\n",
      "35番目の処理\n",
      "36番目の処理\n",
      "37番目の処理\n",
      "38番目の処理\n",
      "39番目の処理\n",
      "40番目の処理\n",
      "41番目の処理\n",
      "42番目の処理\n",
      "43番目の処理\n",
      "44番目の処理\n",
      "45番目の処理\n",
      "46番目の処理\n",
      "47番目の処理\n",
      "48番目の処理\n",
      "49番目の処理\n",
      "50番目の処理\n"
     ]
    }
   ],
   "source": [
    "for i in range(1, 51):\n",
    "    print('{0}番目の処理'.format(i))\n",
    "    set_model_variable(init_model, tmp_model, diff_50_div_variable, i)\n",
    "    loss.append(np.sum(fn([X_train])))"
   ]
  },
  {
   "cell_type": "code",
   "execution_count": 231,
   "metadata": {},
   "outputs": [],
   "source": [
    "with open('../log/grad/loss.pkl', 'wb') as f:\n",
    "    pickle.dump(loss, f)"
   ]
  },
  {
   "cell_type": "code",
   "execution_count": null,
   "metadata": {},
   "outputs": [],
   "source": []
  }
 ],
 "metadata": {
  "kernelspec": {
   "display_name": "Python 3",
   "language": "python",
   "name": "python3"
  },
  "language_info": {
   "codemirror_mode": {
    "name": "ipython",
    "version": 3
   },
   "file_extension": ".py",
   "mimetype": "text/x-python",
   "name": "python",
   "nbconvert_exporter": "python",
   "pygments_lexer": "ipython3",
   "version": "3.5.2"
  }
 },
 "nbformat": 4,
 "nbformat_minor": 2
}
